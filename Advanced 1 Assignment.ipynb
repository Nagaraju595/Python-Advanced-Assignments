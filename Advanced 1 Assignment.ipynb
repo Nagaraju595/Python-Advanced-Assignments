{
 "cells": [
  {
   "cell_type": "markdown",
   "id": "0003cc94",
   "metadata": {},
   "source": [
    "# Q1. What is the purpose of Python's OOP?"
   ]
  },
  {
   "cell_type": "markdown",
   "id": "0f6f9fa9",
   "metadata": {},
   "source": [
    "Ans: Object-oriented programming is a programming paradigm that provides a means of structuring programs so that properties and behaviors are bundled into individual objects\n",
    "\n",
    "In Python, object-oriented Programming (OOPs) uses objects and classes in programming.\n",
    "It aims to implement real-world entities like inheritance, polymorphisms, encapsulation, etc. in the programming.\n",
    "The main concept of OOPs is to bind the data and the functions that work on that together as a single unit so that no other part of the code can access this data.\n",
    "It comes up with the following advantages:\n",
    "It helps to divide our over all program into different small segments and thus making it solving easy with the use of objects\n",
    "Helps in easy maintenance and modification of existing program\n",
    "Multiple instances of an object can be made."
   ]
  },
  {
   "cell_type": "markdown",
   "id": "9d18cfc6",
   "metadata": {},
   "source": [
    "# Q2. Where does an inheritance search look for an attribute?"
   ]
  },
  {
   "cell_type": "markdown",
   "id": "e84219e9",
   "metadata": {},
   "source": [
    " Ans: Python searches for an attribute in an upward tree of attributes. it first searches for the attribute in its instance and then looks in the class it is generated from, to all super classes listed in its class header"
   ]
  },
  {
   "cell_type": "markdown",
   "id": "a2090a59",
   "metadata": {},
   "source": [
    "# Q3. How do you distinguish between a class object and an instance object?"
   ]
  },
  {
   "cell_type": "markdown",
   "id": "8dfcde79",
   "metadata": {},
   "source": [
    "Ans: The differences between a class object and an instance object are:\n",
    "\n",
    "Class is a template for creating objects whereas object is an instance of class\n",
    "Seperate memory is allocated for each object whenever an object is created. but for a class this doesnot happens.\n",
    "A Class is created once. Many objects are created using a class.\n",
    "As Classes have no allocated memory. they can't be manipulated. but objects can be manipulated."
   ]
  },
  {
   "cell_type": "markdown",
   "id": "eaa138ab",
   "metadata": {},
   "source": [
    "# Q4. What makes the first argument in a class’s method function special?"
   ]
  },
  {
   "cell_type": "markdown",
   "id": "606405b8",
   "metadata": {},
   "source": [
    "Ans: Python Classes usually have three types of methods which are:\n",
    "\n",
    "Instance Methods (object level methods)\n",
    "Class Methods (class level methods)\n",
    "Static Methods (general utility methods)\n",
    "self is the first argument for instance methods. which refers to the object itself\n",
    "cls is the first argument for class methods which refers to the class itself"
   ]
  },
  {
   "cell_type": "markdown",
   "id": "e94f272e",
   "metadata": {},
   "source": [
    "# Q5. What is the purpose of the init method?"
   ]
  },
  {
   "cell_type": "markdown",
   "id": "e750aa62",
   "metadata": {},
   "source": [
    "Ans: __init__ is a reseved method in python classes. It serves the role of a constructor in object oriented terminology. This method is called when an object is created from a class and it allows the class to initialize the attributes of the class"
   ]
  },
  {
   "cell_type": "markdown",
   "id": "736684f2",
   "metadata": {},
   "source": [
    "# Q6. What is the process for creating a class instance?\n"
   ]
  },
  {
   "cell_type": "markdown",
   "id": "9e6e0903",
   "metadata": {},
   "source": [
    "Ans: To create a class instance, we need to call the class by its name and pass the arguments to the class, which its init method accepts."
   ]
  },
  {
   "cell_type": "markdown",
   "id": "b1a1fd3d",
   "metadata": {},
   "source": [
    "Example: my_name = my_class(\"Naga\",\"Raju\") Here my_name is an instance of class my_class with attributes \"Naga\" and \"Raju\"."
   ]
  },
  {
   "cell_type": "markdown",
   "id": "faf63940",
   "metadata": {},
   "source": [
    "# 7. What is the process for creating a class?"
   ]
  },
  {
   "cell_type": "markdown",
   "id": "1d102c9d",
   "metadata": {},
   "source": [
    "Ans: class keyword is used to created a class in python. The syntax to create a class in python is class <classname>:"
   ]
  },
  {
   "cell_type": "markdown",
   "id": "03df8325",
   "metadata": {},
   "source": [
    "Example: class Car: ➞ this creates a class called Car"
   ]
  },
  {
   "cell_type": "markdown",
   "id": "f65b00b7",
   "metadata": {},
   "source": [
    "# Q8. How would you define the superclasses of a class?\n"
   ]
  },
  {
   "cell_type": "markdown",
   "id": "de6a23dc",
   "metadata": {},
   "source": [
    "Ans Superclass/Parent class is given as a arugment to the child class"
   ]
  },
  {
   "cell_type": "markdown",
   "id": "bb5d239b",
   "metadata": {},
   "source": [
    "Example: class Employee(Person): Here child class Employee inherits attributes and methofs from Superclass/Parent Person"
   ]
  },
  {
   "cell_type": "code",
   "execution_count": null,
   "id": "89bcf830",
   "metadata": {},
   "outputs": [],
   "source": []
  }
 ],
 "metadata": {
  "kernelspec": {
   "display_name": "Python 3 (ipykernel)",
   "language": "python",
   "name": "python3"
  },
  "language_info": {
   "codemirror_mode": {
    "name": "ipython",
    "version": 3
   },
   "file_extension": ".py",
   "mimetype": "text/x-python",
   "name": "python",
   "nbconvert_exporter": "python",
   "pygments_lexer": "ipython3",
   "version": "3.9.7"
  }
 },
 "nbformat": 4,
 "nbformat_minor": 5
}
